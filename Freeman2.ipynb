{
 "cells": [
  {
   "cell_type": "markdown",
   "metadata": {},
   "source": [
    "The Marketing team is working with a third party platform to pull additional project information for each customer into our system.\n",
    "They would like to ask your help to write a Python script to match the external company list with Toromont’s own customer list.\n",
    "Please write a small Python script that performs the following tasks:\n",
    "1.Ingest the customer and company lists\n",
    "2.Match the company list and the customer list based on\n",
    "    Name\n",
    "    Phone number\n",
    "    Address, in this order.\n",
    "3.Export the result in a .csv file in the same folder.\n",
    "Note: All the records are fictional, so do not worry if the result does not make sense. When submitting your assessment,\n",
    "please include all .py files that support your assessment. You do not need to include the data files provided to solve this problem.\n",
    "You may use any Python modules that you think will help solve this problem."
   ]
  },
  {
   "cell_type": "markdown",
   "metadata": {},
   "source": [
    "# Import Data"
   ]
  },
  {
   "cell_type": "code",
   "execution_count": 264,
   "metadata": {},
   "outputs": [],
   "source": [
    "#import relevant libraries\n",
    "import csv\n",
    "import io\n",
    "import pandas as pd\n",
    "import numpy as np\n",
    "import pandas_profiling\n",
    "import matplotlib.pyplot as plt\n",
    "import re"
   ]
  },
  {
   "cell_type": "code",
   "execution_count": 101,
   "metadata": {},
   "outputs": [],
   "source": [
    "#Suppress warnings\n",
    "import warnings\n",
    "warnings.simplefilter(\"ignore\")"
   ]
  },
  {
   "cell_type": "code",
   "execution_count": 211,
   "metadata": {},
   "outputs": [
    {
     "data": {
      "text/html": [
       "<div>\n",
       "<style scoped>\n",
       "    .dataframe tbody tr th:only-of-type {\n",
       "        vertical-align: middle;\n",
       "    }\n",
       "\n",
       "    .dataframe tbody tr th {\n",
       "        vertical-align: top;\n",
       "    }\n",
       "\n",
       "    .dataframe thead th {\n",
       "        text-align: right;\n",
       "    }\n",
       "</style>\n",
       "<table border=\"1\" class=\"dataframe\">\n",
       "  <thead>\n",
       "    <tr style=\"text-align: right;\">\n",
       "      <th></th>\n",
       "      <th>Company Name</th>\n",
       "      <th>Phone 1</th>\n",
       "      <th>Phone 2</th>\n",
       "      <th>Address</th>\n",
       "      <th>City</th>\n",
       "      <th>County</th>\n",
       "      <th>State</th>\n",
       "      <th>ZipCode</th>\n",
       "      <th>Related Projects</th>\n",
       "      <th>Total Project Value</th>\n",
       "    </tr>\n",
       "  </thead>\n",
       "  <tbody>\n",
       "    <tr>\n",
       "      <th>0</th>\n",
       "      <td>3 Round Stones, Inc</td>\n",
       "      <td>(705) 765-5706</td>\n",
       "      <td>(905) 717-1909</td>\n",
       "      <td>300 Dawson St N</td>\n",
       "      <td>BURLINGTON</td>\n",
       "      <td>HALTON</td>\n",
       "      <td>ONTARIO</td>\n",
       "      <td>M7B1H2</td>\n",
       "      <td>9</td>\n",
       "      <td>$19,446,194</td>\n",
       "    </tr>\n",
       "    <tr>\n",
       "      <th>1</th>\n",
       "      <td>48 Factoring Inc.</td>\n",
       "      <td>(611) 725-6775</td>\n",
       "      <td>(218) 725-2772</td>\n",
       "      <td>665 Millway Avenue Suite 47</td>\n",
       "      <td>QUEBEC</td>\n",
       "      <td>QUEBEC</td>\n",
       "      <td>QUEBEC</td>\n",
       "      <td>G5M 3P3</td>\n",
       "      <td>5</td>\n",
       "      <td>$2,881,817</td>\n",
       "    </tr>\n",
       "    <tr>\n",
       "      <th>2</th>\n",
       "      <td>5PSolutions</td>\n",
       "      <td>(516) 522-2121</td>\n",
       "      <td>(512) 522-7022</td>\n",
       "      <td>3693 Colborne St. E,</td>\n",
       "      <td>LAVAL</td>\n",
       "      <td>LAVAL</td>\n",
       "      <td>QUEBEC</td>\n",
       "      <td>H2D 3T8</td>\n",
       "      <td>70</td>\n",
       "      <td>$9,558,121</td>\n",
       "    </tr>\n",
       "  </tbody>\n",
       "</table>\n",
       "</div>"
      ],
      "text/plain": [
       "          Company Name         Phone 1         Phone 2  \\\n",
       "0  3 Round Stones, Inc  (705) 765-5706  (905) 717-1909   \n",
       "1    48 Factoring Inc.  (611) 725-6775  (218) 725-2772   \n",
       "2          5PSolutions  (516) 522-2121  (512) 522-7022   \n",
       "\n",
       "                       Address        City  County    State  ZipCode  \\\n",
       "0              300 Dawson St N  BURLINGTON  HALTON  ONTARIO   M7B1H2   \n",
       "1  665 Millway Avenue Suite 47      QUEBEC  QUEBEC   QUEBEC  G5M 3P3   \n",
       "2         3693 Colborne St. E,       LAVAL   LAVAL   QUEBEC  H2D 3T8   \n",
       "\n",
       "  Related Projects Total Project Value  \n",
       "0                9         $19,446,194  \n",
       "1                5          $2,881,817  \n",
       "2               70          $9,558,121  "
      ]
     },
     "execution_count": 211,
     "metadata": {},
     "output_type": "execute_result"
    }
   ],
   "source": [
    "#import company_list file\n",
    "with open('company_list.csv') as my_input:\n",
    "    data = [next(csv.reader(io.StringIO(line.replace('\"\"', '\"')))) for line in my_input]\n",
    "\n",
    "company = pd.DataFrame(data[1:], columns=data[0])\n",
    "\n",
    "#show first few rows\n",
    "company.head(3)"
   ]
  },
  {
   "cell_type": "code",
   "execution_count": 212,
   "metadata": {},
   "outputs": [
    {
     "data": {
      "text/html": [
       "<div>\n",
       "<style scoped>\n",
       "    .dataframe tbody tr th:only-of-type {\n",
       "        vertical-align: middle;\n",
       "    }\n",
       "\n",
       "    .dataframe tbody tr th {\n",
       "        vertical-align: top;\n",
       "    }\n",
       "\n",
       "    .dataframe thead th {\n",
       "        text-align: right;\n",
       "    }\n",
       "</style>\n",
       "<table border=\"1\" class=\"dataframe\">\n",
       "  <thead>\n",
       "    <tr style=\"text-align: right;\">\n",
       "      <th></th>\n",
       "      <th>Name</th>\n",
       "      <th>Phone</th>\n",
       "      <th>Address</th>\n",
       "      <th></th>\n",
       "    </tr>\n",
       "  </thead>\n",
       "  <tbody>\n",
       "    <tr>\n",
       "      <th>0</th>\n",
       "      <td>034578 NOVA SCOTIA O/A BIOVIA</td>\n",
       "      <td>7025655756</td>\n",
       "      <td>723 TWISS , DARTMOUTH NS</td>\n",
       "      <td></td>\n",
       "    </tr>\n",
       "    <tr>\n",
       "      <th>1</th>\n",
       "      <td>05763 ONTARIO O/A BEKINS</td>\n",
       "      <td>6505251770</td>\n",
       "      <td>3613 ROUTE MARIE-VICTORIN , CALEDON ON</td>\n",
       "      <td></td>\n",
       "    </tr>\n",
       "    <tr>\n",
       "      <th>2</th>\n",
       "      <td>3 ROUND STONES, LTD.</td>\n",
       "      <td>7057655706</td>\n",
       "      <td>300 DAWSON ST N , BURLINGTON ON</td>\n",
       "      <td></td>\n",
       "    </tr>\n",
       "  </tbody>\n",
       "</table>\n",
       "</div>"
      ],
      "text/plain": [
       "                            Name       Phone  \\\n",
       "0  034578 NOVA SCOTIA O/A BIOVIA  7025655756   \n",
       "1       05763 ONTARIO O/A BEKINS  6505251770   \n",
       "2           3 ROUND STONES, LTD.  7057655706   \n",
       "\n",
       "                                  Address    \n",
       "0                723 TWISS , DARTMOUTH NS    \n",
       "1  3613 ROUTE MARIE-VICTORIN , CALEDON ON    \n",
       "2         300 DAWSON ST N , BURLINGTON ON    "
      ]
     },
     "execution_count": 212,
     "metadata": {},
     "output_type": "execute_result"
    }
   ],
   "source": [
    "#import customer_list file\n",
    "with open ('customer_list.csv') as input2:\n",
    "    data2 = [next(csv.reader(io.StringIO(line.replace('\"\"', '\"')))) for line in input2]\n",
    "\n",
    "customer = pd.DataFrame(data2[1:], columns = data2[0])\n",
    "\n",
    "#display first few rows\n",
    "customer.head(3)"
   ]
  },
  {
   "cell_type": "markdown",
   "metadata": {},
   "source": [
    "# Data Exploration"
   ]
  },
  {
   "cell_type": "code",
   "execution_count": 215,
   "metadata": {},
   "outputs": [
    {
     "data": {
      "application/vnd.jupyter.widget-view+json": {
       "model_id": "f021e5497e284c598dc6627169b330a8",
       "version_major": 2,
       "version_minor": 0
      },
      "text/plain": [
       "Tab(children=(HTML(value='<div id=\"overview-content\" class=\"row variable spacing\">\\n    <div class=\"row\">\\n   …"
      ]
     },
     "metadata": {},
     "output_type": "display_data"
    },
    {
     "data": {
      "text/html": [
       "Report generated with <a href=\"https://github.com/pandas-profiling/pandas-profiling\">pandas-profiling</a>."
      ],
      "text/plain": [
       "<IPython.core.display.HTML object>"
      ]
     },
     "metadata": {},
     "output_type": "display_data"
    },
    {
     "data": {
      "text/plain": []
     },
     "execution_count": 215,
     "metadata": {},
     "output_type": "execute_result"
    }
   ],
   "source": [
    "#Explore the company data by clicking through topics and variables\n",
    "pandas_profiling.ProfileReport(company)"
   ]
  },
  {
   "cell_type": "code",
   "execution_count": 218,
   "metadata": {},
   "outputs": [],
   "source": [
    "#reindex the customer dataframe to fix column indexing error\n",
    "customer = customer.reindex(columns=['Name', 'Phone', 'Address'])"
   ]
  },
  {
   "cell_type": "code",
   "execution_count": 219,
   "metadata": {},
   "outputs": [
    {
     "data": {
      "application/vnd.jupyter.widget-view+json": {
       "model_id": "7ac7e3c1a2bd4bcbba304ef6bc41730b",
       "version_major": 2,
       "version_minor": 0
      },
      "text/plain": [
       "Tab(children=(HTML(value='<div id=\"overview-content\" class=\"row variable spacing\">\\n    <div class=\"row\">\\n   …"
      ]
     },
     "metadata": {},
     "output_type": "display_data"
    },
    {
     "data": {
      "text/html": [
       "Report generated with <a href=\"https://github.com/pandas-profiling/pandas-profiling\">pandas-profiling</a>."
      ],
      "text/plain": [
       "<IPython.core.display.HTML object>"
      ]
     },
     "metadata": {},
     "output_type": "display_data"
    },
    {
     "data": {
      "text/plain": []
     },
     "execution_count": 219,
     "metadata": {},
     "output_type": "execute_result"
    }
   ],
   "source": [
    "#Explore the customer data by clicking through topics and variables\n",
    "pandas_profiling.ProfileReport(customer)"
   ]
  },
  {
   "cell_type": "markdown",
   "metadata": {},
   "source": [
    "It can be seen that we have similar data in different formats from the two sources, including upper and lower cases, punctuation marks, special characters, use of inc vs ltd etc. This means we have to clean our data before processing pattern similarity matching. It would also be smart to subset the desired data from the company dataframe according to requirements."
   ]
  },
  {
   "cell_type": "markdown",
   "metadata": {},
   "source": [
    "# Data Cleaning"
   ]
  },
  {
   "cell_type": "code",
   "execution_count": 104,
   "metadata": {},
   "outputs": [],
   "source": [
    "#Make a subset of the desired features from the company dataframe\n",
    "company_sub = company[['Company Name', 'Address', 'Phone 1', 'Phone 2', 'Total Project Value']]"
   ]
  },
  {
   "cell_type": "code",
   "execution_count": 105,
   "metadata": {},
   "outputs": [
    {
     "data": {
      "text/plain": [
       "(529, 5)"
      ]
     },
     "execution_count": 105,
     "metadata": {},
     "output_type": "execute_result"
    }
   ],
   "source": [
    "#Dimensions\n",
    "company_sub.shape"
   ]
  },
  {
   "cell_type": "code",
   "execution_count": 106,
   "metadata": {},
   "outputs": [
    {
     "data": {
      "text/html": [
       "<div>\n",
       "<style scoped>\n",
       "    .dataframe tbody tr th:only-of-type {\n",
       "        vertical-align: middle;\n",
       "    }\n",
       "\n",
       "    .dataframe tbody tr th {\n",
       "        vertical-align: top;\n",
       "    }\n",
       "\n",
       "    .dataframe thead th {\n",
       "        text-align: right;\n",
       "    }\n",
       "</style>\n",
       "<table border=\"1\" class=\"dataframe\">\n",
       "  <thead>\n",
       "    <tr style=\"text-align: right;\">\n",
       "      <th></th>\n",
       "      <th>Company Name</th>\n",
       "      <th>Address</th>\n",
       "      <th>Phone 1</th>\n",
       "      <th>Phone 2</th>\n",
       "      <th>Total Project Value</th>\n",
       "    </tr>\n",
       "  </thead>\n",
       "  <tbody>\n",
       "    <tr>\n",
       "      <th>0</th>\n",
       "      <td>3 Round Stones, Inc</td>\n",
       "      <td>300 Dawson St N</td>\n",
       "      <td>(705) 765-5706</td>\n",
       "      <td>(905) 717-1909</td>\n",
       "      <td>$19,446,194</td>\n",
       "    </tr>\n",
       "    <tr>\n",
       "      <th>1</th>\n",
       "      <td>48 Factoring Inc.</td>\n",
       "      <td>665 Millway Avenue Suite 47</td>\n",
       "      <td>(611) 725-6775</td>\n",
       "      <td>(218) 725-2772</td>\n",
       "      <td>$2,881,817</td>\n",
       "    </tr>\n",
       "    <tr>\n",
       "      <th>2</th>\n",
       "      <td>5PSolutions</td>\n",
       "      <td>3693 Colborne St. E,</td>\n",
       "      <td>(516) 522-2121</td>\n",
       "      <td>(512) 522-7022</td>\n",
       "      <td>$9,558,121</td>\n",
       "    </tr>\n",
       "  </tbody>\n",
       "</table>\n",
       "</div>"
      ],
      "text/plain": [
       "          Company Name                      Address         Phone 1  \\\n",
       "0  3 Round Stones, Inc              300 Dawson St N  (705) 765-5706   \n",
       "1    48 Factoring Inc.  665 Millway Avenue Suite 47  (611) 725-6775   \n",
       "2          5PSolutions         3693 Colborne St. E,  (516) 522-2121   \n",
       "\n",
       "          Phone 2 Total Project Value  \n",
       "0  (905) 717-1909         $19,446,194  \n",
       "1  (218) 725-2772          $2,881,817  \n",
       "2  (512) 522-7022          $9,558,121  "
      ]
     },
     "execution_count": 106,
     "metadata": {},
     "output_type": "execute_result"
    }
   ],
   "source": [
    "#Show first few records\n",
    "company_sub.head(3)"
   ]
  },
  {
   "cell_type": "code",
   "execution_count": 107,
   "metadata": {},
   "outputs": [],
   "source": [
    "#Remove special characters from different columns in the subset\n",
    "company_sub['Company Name'] = company_sub['Company Name'].str.replace(r'[^\\w\\s]+', '')\n",
    "company_sub['Address'] = company_sub['Address'].str.replace(r'[^\\w\\s]+', '')\n",
    "company_sub['Phone 1'] = company_sub['Phone 1'].str.replace(r'[^\\w\\s]+', '')\n",
    "company_sub['Phone 2'] = company_sub['Phone 2'].str.replace(r'[^\\w\\s]+', '')\n",
    "company_sub['Total Project Value'] = company_sub['Total Project Value'].str.replace(r'[^\\w\\s]+', '')\n",
    "\n",
    "#remove space between numbers in Phone 1\n",
    "company_sub['Phone 1'] = company_sub['Phone 1'].str.replace(r' ', '')\n",
    "\n",
    "#remove space between numbers in Phone 2\n",
    "company_sub['Phone 2'] = company_sub['Phone 2'].str.replace(r' ', '')"
   ]
  },
  {
   "cell_type": "code",
   "execution_count": 108,
   "metadata": {},
   "outputs": [
    {
     "data": {
      "text/html": [
       "<div>\n",
       "<style scoped>\n",
       "    .dataframe tbody tr th:only-of-type {\n",
       "        vertical-align: middle;\n",
       "    }\n",
       "\n",
       "    .dataframe tbody tr th {\n",
       "        vertical-align: top;\n",
       "    }\n",
       "\n",
       "    .dataframe thead th {\n",
       "        text-align: right;\n",
       "    }\n",
       "</style>\n",
       "<table border=\"1\" class=\"dataframe\">\n",
       "  <thead>\n",
       "    <tr style=\"text-align: right;\">\n",
       "      <th></th>\n",
       "      <th>Company Name</th>\n",
       "      <th>Address</th>\n",
       "      <th>Phone 1</th>\n",
       "      <th>Phone 2</th>\n",
       "      <th>Total Project Value</th>\n",
       "    </tr>\n",
       "  </thead>\n",
       "  <tbody>\n",
       "    <tr>\n",
       "      <th>0</th>\n",
       "      <td>3 Round Stones Inc</td>\n",
       "      <td>300 Dawson St N</td>\n",
       "      <td>7057655706</td>\n",
       "      <td>9057171909</td>\n",
       "      <td>19446194</td>\n",
       "    </tr>\n",
       "    <tr>\n",
       "      <th>1</th>\n",
       "      <td>48 Factoring Inc</td>\n",
       "      <td>665 Millway Avenue Suite 47</td>\n",
       "      <td>6117256775</td>\n",
       "      <td>2187252772</td>\n",
       "      <td>2881817</td>\n",
       "    </tr>\n",
       "    <tr>\n",
       "      <th>2</th>\n",
       "      <td>5PSolutions</td>\n",
       "      <td>3693 Colborne St E</td>\n",
       "      <td>5165222121</td>\n",
       "      <td>5125227022</td>\n",
       "      <td>9558121</td>\n",
       "    </tr>\n",
       "  </tbody>\n",
       "</table>\n",
       "</div>"
      ],
      "text/plain": [
       "         Company Name                      Address     Phone 1     Phone 2  \\\n",
       "0  3 Round Stones Inc              300 Dawson St N  7057655706  9057171909   \n",
       "1    48 Factoring Inc  665 Millway Avenue Suite 47  6117256775  2187252772   \n",
       "2         5PSolutions           3693 Colborne St E  5165222121  5125227022   \n",
       "\n",
       "  Total Project Value  \n",
       "0            19446194  \n",
       "1             2881817  \n",
       "2             9558121  "
      ]
     },
     "execution_count": 108,
     "metadata": {},
     "output_type": "execute_result"
    }
   ],
   "source": [
    "#Glance\n",
    "company_sub.head(3)"
   ]
  },
  {
   "cell_type": "code",
   "execution_count": 109,
   "metadata": {},
   "outputs": [],
   "source": [
    "#Similarly, remove special characters from customer dataframe\n",
    "customer['Name'] = customer['Name'].str.replace(r'[^\\w\\s]+', '')\n",
    "customer['Address'] = customer['Address'].str.replace(r'[^\\w\\s]+', '')\n",
    "customer['Phone'] = customer['Phone'].str.replace(r'[^\\w\\s]+', '')"
   ]
  },
  {
   "cell_type": "code",
   "execution_count": 110,
   "metadata": {},
   "outputs": [
    {
     "data": {
      "text/html": [
       "<div>\n",
       "<style scoped>\n",
       "    .dataframe tbody tr th:only-of-type {\n",
       "        vertical-align: middle;\n",
       "    }\n",
       "\n",
       "    .dataframe tbody tr th {\n",
       "        vertical-align: top;\n",
       "    }\n",
       "\n",
       "    .dataframe thead th {\n",
       "        text-align: right;\n",
       "    }\n",
       "</style>\n",
       "<table border=\"1\" class=\"dataframe\">\n",
       "  <thead>\n",
       "    <tr style=\"text-align: right;\">\n",
       "      <th></th>\n",
       "      <th>Name</th>\n",
       "      <th>Phone</th>\n",
       "      <th>Address</th>\n",
       "      <th></th>\n",
       "    </tr>\n",
       "  </thead>\n",
       "  <tbody>\n",
       "    <tr>\n",
       "      <th>0</th>\n",
       "      <td>034578 NOVA SCOTIA OA BIOVIA</td>\n",
       "      <td>7025655756</td>\n",
       "      <td>723 TWISS  DARTMOUTH NS</td>\n",
       "      <td></td>\n",
       "    </tr>\n",
       "    <tr>\n",
       "      <th>1</th>\n",
       "      <td>05763 ONTARIO OA BEKINS</td>\n",
       "      <td>6505251770</td>\n",
       "      <td>3613 ROUTE MARIEVICTORIN  CALEDON ON</td>\n",
       "      <td></td>\n",
       "    </tr>\n",
       "    <tr>\n",
       "      <th>2</th>\n",
       "      <td>3 ROUND STONES LTD</td>\n",
       "      <td>7057655706</td>\n",
       "      <td>300 DAWSON ST N  BURLINGTON ON</td>\n",
       "      <td></td>\n",
       "    </tr>\n",
       "  </tbody>\n",
       "</table>\n",
       "</div>"
      ],
      "text/plain": [
       "                           Name       Phone  \\\n",
       "0  034578 NOVA SCOTIA OA BIOVIA  7025655756   \n",
       "1       05763 ONTARIO OA BEKINS  6505251770   \n",
       "2            3 ROUND STONES LTD  7057655706   \n",
       "\n",
       "                                Address    \n",
       "0               723 TWISS  DARTMOUTH NS    \n",
       "1  3613 ROUTE MARIEVICTORIN  CALEDON ON    \n",
       "2        300 DAWSON ST N  BURLINGTON ON    "
      ]
     },
     "execution_count": 110,
     "metadata": {},
     "output_type": "execute_result"
    }
   ],
   "source": [
    "#Glance\n",
    "customer.head(3)"
   ]
  },
  {
   "cell_type": "code",
   "execution_count": 111,
   "metadata": {},
   "outputs": [
    {
     "data": {
      "text/html": [
       "<div>\n",
       "<style scoped>\n",
       "    .dataframe tbody tr th:only-of-type {\n",
       "        vertical-align: middle;\n",
       "    }\n",
       "\n",
       "    .dataframe tbody tr th {\n",
       "        vertical-align: top;\n",
       "    }\n",
       "\n",
       "    .dataframe thead th {\n",
       "        text-align: right;\n",
       "    }\n",
       "</style>\n",
       "<table border=\"1\" class=\"dataframe\">\n",
       "  <thead>\n",
       "    <tr style=\"text-align: right;\">\n",
       "      <th></th>\n",
       "      <th>Name</th>\n",
       "      <th>Phone</th>\n",
       "      <th>Address</th>\n",
       "      <th></th>\n",
       "    </tr>\n",
       "  </thead>\n",
       "  <tbody>\n",
       "    <tr>\n",
       "      <th>0</th>\n",
       "      <td>034578 nova scotia oa biovia</td>\n",
       "      <td>7025655756</td>\n",
       "      <td>723 twiss  dartmouth ns</td>\n",
       "      <td></td>\n",
       "    </tr>\n",
       "    <tr>\n",
       "      <th>1</th>\n",
       "      <td>05763 ontario oa bekins</td>\n",
       "      <td>6505251770</td>\n",
       "      <td>3613 route marievictorin  caledon on</td>\n",
       "      <td></td>\n",
       "    </tr>\n",
       "    <tr>\n",
       "      <th>2</th>\n",
       "      <td>3 round stones ltd</td>\n",
       "      <td>7057655706</td>\n",
       "      <td>300 dawson st n  burlington on</td>\n",
       "      <td></td>\n",
       "    </tr>\n",
       "  </tbody>\n",
       "</table>\n",
       "</div>"
      ],
      "text/plain": [
       "                           Name       Phone  \\\n",
       "0  034578 nova scotia oa biovia  7025655756   \n",
       "1       05763 ontario oa bekins  6505251770   \n",
       "2            3 round stones ltd  7057655706   \n",
       "\n",
       "                                Address    \n",
       "0               723 twiss  dartmouth ns    \n",
       "1  3613 route marievictorin  caledon on    \n",
       "2        300 dawson st n  burlington on    "
      ]
     },
     "execution_count": 111,
     "metadata": {},
     "output_type": "execute_result"
    }
   ],
   "source": [
    "#convert the address, companyname and name to lowercase for case uniformity\n",
    "customer['Name'] = customer['Name'].map(lambda x: x.lower())\n",
    "customer['Address'] = customer['Address'].map(lambda x: x.lower())\n",
    "customer.head(3)"
   ]
  },
  {
   "cell_type": "code",
   "execution_count": 112,
   "metadata": {},
   "outputs": [
    {
     "data": {
      "text/html": [
       "<div>\n",
       "<style scoped>\n",
       "    .dataframe tbody tr th:only-of-type {\n",
       "        vertical-align: middle;\n",
       "    }\n",
       "\n",
       "    .dataframe tbody tr th {\n",
       "        vertical-align: top;\n",
       "    }\n",
       "\n",
       "    .dataframe thead th {\n",
       "        text-align: right;\n",
       "    }\n",
       "</style>\n",
       "<table border=\"1\" class=\"dataframe\">\n",
       "  <thead>\n",
       "    <tr style=\"text-align: right;\">\n",
       "      <th></th>\n",
       "      <th>Company Name</th>\n",
       "      <th>Address</th>\n",
       "      <th>Phone 1</th>\n",
       "      <th>Phone 2</th>\n",
       "      <th>Total Project Value</th>\n",
       "    </tr>\n",
       "  </thead>\n",
       "  <tbody>\n",
       "    <tr>\n",
       "      <th>0</th>\n",
       "      <td>3 round stones inc</td>\n",
       "      <td>300 dawson st n</td>\n",
       "      <td>7057655706</td>\n",
       "      <td>9057171909</td>\n",
       "      <td>19446194</td>\n",
       "    </tr>\n",
       "    <tr>\n",
       "      <th>1</th>\n",
       "      <td>48 factoring inc</td>\n",
       "      <td>665 millway avenue suite 47</td>\n",
       "      <td>6117256775</td>\n",
       "      <td>2187252772</td>\n",
       "      <td>2881817</td>\n",
       "    </tr>\n",
       "    <tr>\n",
       "      <th>2</th>\n",
       "      <td>5psolutions</td>\n",
       "      <td>3693 colborne st e</td>\n",
       "      <td>5165222121</td>\n",
       "      <td>5125227022</td>\n",
       "      <td>9558121</td>\n",
       "    </tr>\n",
       "  </tbody>\n",
       "</table>\n",
       "</div>"
      ],
      "text/plain": [
       "         Company Name                      Address     Phone 1     Phone 2  \\\n",
       "0  3 round stones inc              300 dawson st n  7057655706  9057171909   \n",
       "1    48 factoring inc  665 millway avenue suite 47  6117256775  2187252772   \n",
       "2         5psolutions           3693 colborne st e  5165222121  5125227022   \n",
       "\n",
       "  Total Project Value  \n",
       "0            19446194  \n",
       "1             2881817  \n",
       "2             9558121  "
      ]
     },
     "execution_count": 112,
     "metadata": {},
     "output_type": "execute_result"
    }
   ],
   "source": [
    "#similarly convert to lowercase\n",
    "company_sub['Company Name'] = company_sub['Company Name'].map(lambda x: x.lower())\n",
    "company_sub['Address'] = company_sub['Address'].map(lambda x: x.lower())\n",
    "company_sub.head(3)"
   ]
  },
  {
   "cell_type": "code",
   "execution_count": 113,
   "metadata": {},
   "outputs": [
    {
     "data": {
      "text/html": [
       "<div>\n",
       "<style scoped>\n",
       "    .dataframe tbody tr th:only-of-type {\n",
       "        vertical-align: middle;\n",
       "    }\n",
       "\n",
       "    .dataframe tbody tr th {\n",
       "        vertical-align: top;\n",
       "    }\n",
       "\n",
       "    .dataframe thead th {\n",
       "        text-align: right;\n",
       "    }\n",
       "</style>\n",
       "<table border=\"1\" class=\"dataframe\">\n",
       "  <thead>\n",
       "    <tr style=\"text-align: right;\">\n",
       "      <th></th>\n",
       "      <th>Company Name</th>\n",
       "      <th>Address</th>\n",
       "      <th>Phone 1</th>\n",
       "      <th>Phone 2</th>\n",
       "      <th>Total Project Value</th>\n",
       "    </tr>\n",
       "  </thead>\n",
       "  <tbody>\n",
       "    <tr>\n",
       "      <th>0</th>\n",
       "      <td>3 round stones</td>\n",
       "      <td>300 dawson st n</td>\n",
       "      <td>7057655706</td>\n",
       "      <td>9057171909</td>\n",
       "      <td>19446194</td>\n",
       "    </tr>\n",
       "    <tr>\n",
       "      <th>1</th>\n",
       "      <td>48 factoring</td>\n",
       "      <td>665 millway avenue suite 47</td>\n",
       "      <td>6117256775</td>\n",
       "      <td>2187252772</td>\n",
       "      <td>2881817</td>\n",
       "    </tr>\n",
       "    <tr>\n",
       "      <th>2</th>\n",
       "      <td>5psolutions</td>\n",
       "      <td>3693 colborne st e</td>\n",
       "      <td>5165222121</td>\n",
       "      <td>5125227022</td>\n",
       "      <td>9558121</td>\n",
       "    </tr>\n",
       "  </tbody>\n",
       "</table>\n",
       "</div>"
      ],
      "text/plain": [
       "     Company Name                      Address     Phone 1     Phone 2  \\\n",
       "0  3 round stones              300 dawson st n  7057655706  9057171909   \n",
       "1    48 factoring  665 millway avenue suite 47  6117256775  2187252772   \n",
       "2     5psolutions           3693 colborne st e  5165222121  5125227022   \n",
       "\n",
       "  Total Project Value  \n",
       "0            19446194  \n",
       "1             2881817  \n",
       "2             9558121  "
      ]
     },
     "execution_count": 113,
     "metadata": {},
     "output_type": "execute_result"
    }
   ],
   "source": [
    "#Remove ltd and inc from the company name for uniformity sake\n",
    "strings_to_remove = ['inc', 'ltd']\n",
    "company_sub['Company Name'] = company_sub['Company Name'].str.replace('|'.join(strings_to_remove), '', regex=True).str.strip()\n",
    "company_sub.head(3)"
   ]
  },
  {
   "cell_type": "code",
   "execution_count": 114,
   "metadata": {},
   "outputs": [
    {
     "data": {
      "text/html": [
       "<div>\n",
       "<style scoped>\n",
       "    .dataframe tbody tr th:only-of-type {\n",
       "        vertical-align: middle;\n",
       "    }\n",
       "\n",
       "    .dataframe tbody tr th {\n",
       "        vertical-align: top;\n",
       "    }\n",
       "\n",
       "    .dataframe thead th {\n",
       "        text-align: right;\n",
       "    }\n",
       "</style>\n",
       "<table border=\"1\" class=\"dataframe\">\n",
       "  <thead>\n",
       "    <tr style=\"text-align: right;\">\n",
       "      <th></th>\n",
       "      <th>Name</th>\n",
       "      <th>Phone</th>\n",
       "      <th>Address</th>\n",
       "      <th></th>\n",
       "    </tr>\n",
       "  </thead>\n",
       "  <tbody>\n",
       "    <tr>\n",
       "      <th>0</th>\n",
       "      <td>034578 nova scotia oa biovia</td>\n",
       "      <td>7025655756</td>\n",
       "      <td>723 twiss  dartmouth ns</td>\n",
       "      <td></td>\n",
       "    </tr>\n",
       "    <tr>\n",
       "      <th>1</th>\n",
       "      <td>05763 ontario oa bekins</td>\n",
       "      <td>6505251770</td>\n",
       "      <td>3613 route marievictorin  caledon on</td>\n",
       "      <td></td>\n",
       "    </tr>\n",
       "    <tr>\n",
       "      <th>2</th>\n",
       "      <td>3 round stones</td>\n",
       "      <td>7057655706</td>\n",
       "      <td>300 dawson st n  burlington on</td>\n",
       "      <td></td>\n",
       "    </tr>\n",
       "  </tbody>\n",
       "</table>\n",
       "</div>"
      ],
      "text/plain": [
       "                           Name       Phone  \\\n",
       "0  034578 nova scotia oa biovia  7025655756   \n",
       "1       05763 ontario oa bekins  6505251770   \n",
       "2                3 round stones  7057655706   \n",
       "\n",
       "                                Address    \n",
       "0               723 twiss  dartmouth ns    \n",
       "1  3613 route marievictorin  caledon on    \n",
       "2        300 dawson st n  burlington on    "
      ]
     },
     "execution_count": 114,
     "metadata": {},
     "output_type": "execute_result"
    }
   ],
   "source": [
    "# Similarly remove ltd and inc from Name\n",
    "customer['Name'] = customer['Name'].str.replace('|'.join(strings_to_remove), '', regex=True).str.strip()\n",
    "customer.head(3)"
   ]
  },
  {
   "cell_type": "code",
   "execution_count": 117,
   "metadata": {},
   "outputs": [
    {
     "data": {
      "text/html": [
       "<div>\n",
       "<style scoped>\n",
       "    .dataframe tbody tr th:only-of-type {\n",
       "        vertical-align: middle;\n",
       "    }\n",
       "\n",
       "    .dataframe tbody tr th {\n",
       "        vertical-align: top;\n",
       "    }\n",
       "\n",
       "    .dataframe thead th {\n",
       "        text-align: right;\n",
       "    }\n",
       "</style>\n",
       "<table border=\"1\" class=\"dataframe\">\n",
       "  <thead>\n",
       "    <tr style=\"text-align: right;\">\n",
       "      <th></th>\n",
       "      <th>Name</th>\n",
       "      <th>Phone</th>\n",
       "      <th>Address</th>\n",
       "      <th></th>\n",
       "    </tr>\n",
       "  </thead>\n",
       "  <tbody>\n",
       "    <tr>\n",
       "      <th>0</th>\n",
       "      <td>034578 nova scotia oa biovia</td>\n",
       "      <td>7025655756</td>\n",
       "      <td>723 twiss  dartmouth</td>\n",
       "      <td></td>\n",
       "    </tr>\n",
       "    <tr>\n",
       "      <th>1</th>\n",
       "      <td>05763 ontario oa bekins</td>\n",
       "      <td>6505251770</td>\n",
       "      <td>3613 route marievictorin  caledon</td>\n",
       "      <td></td>\n",
       "    </tr>\n",
       "    <tr>\n",
       "      <th>2</th>\n",
       "      <td>3 round stones</td>\n",
       "      <td>7057655706</td>\n",
       "      <td>300 dawson st n  burlington</td>\n",
       "      <td></td>\n",
       "    </tr>\n",
       "  </tbody>\n",
       "</table>\n",
       "</div>"
      ],
      "text/plain": [
       "                           Name       Phone  \\\n",
       "0  034578 nova scotia oa biovia  7025655756   \n",
       "1       05763 ontario oa bekins  6505251770   \n",
       "2                3 round stones  7057655706   \n",
       "\n",
       "                             Address    \n",
       "0               723 twiss  dartmouth    \n",
       "1  3613 route marievictorin  caledon    \n",
       "2        300 dawson st n  burlington    "
      ]
     },
     "execution_count": 117,
     "metadata": {},
     "output_type": "execute_result"
    }
   ],
   "source": [
    "#remove the province codes from the customer address since there are no province codes in the Company Address we want to match\n",
    "customer['Address'] = customer['Address'].str.rsplit(' ', 1).str[0]\n",
    "customer.head(3)"
   ]
  },
  {
   "cell_type": "code",
   "execution_count": 119,
   "metadata": {},
   "outputs": [
    {
     "data": {
      "text/html": [
       "<div>\n",
       "<style scoped>\n",
       "    .dataframe tbody tr th:only-of-type {\n",
       "        vertical-align: middle;\n",
       "    }\n",
       "\n",
       "    .dataframe tbody tr th {\n",
       "        vertical-align: top;\n",
       "    }\n",
       "\n",
       "    .dataframe thead th {\n",
       "        text-align: right;\n",
       "    }\n",
       "</style>\n",
       "<table border=\"1\" class=\"dataframe\">\n",
       "  <thead>\n",
       "    <tr style=\"text-align: right;\">\n",
       "      <th></th>\n",
       "      <th>Name</th>\n",
       "      <th>Phone</th>\n",
       "      <th>Address</th>\n",
       "      <th></th>\n",
       "    </tr>\n",
       "  </thead>\n",
       "  <tbody>\n",
       "    <tr>\n",
       "      <th>0</th>\n",
       "      <td>034578 nova scotia oa biovia</td>\n",
       "      <td>7025655756</td>\n",
       "      <td>723 twiss</td>\n",
       "      <td></td>\n",
       "    </tr>\n",
       "    <tr>\n",
       "      <th>1</th>\n",
       "      <td>05763 ontario oa bekins</td>\n",
       "      <td>6505251770</td>\n",
       "      <td>3613 route marievictorin</td>\n",
       "      <td></td>\n",
       "    </tr>\n",
       "    <tr>\n",
       "      <th>2</th>\n",
       "      <td>3 round stones</td>\n",
       "      <td>7057655706</td>\n",
       "      <td>300 dawson st n</td>\n",
       "      <td></td>\n",
       "    </tr>\n",
       "  </tbody>\n",
       "</table>\n",
       "</div>"
      ],
      "text/plain": [
       "                           Name       Phone                    Address  \n",
       "0  034578 nova scotia oa biovia  7025655756                 723 twiss   \n",
       "1       05763 ontario oa bekins  6505251770  3613 route marievictorin   \n",
       "2                3 round stones  7057655706           300 dawson st n   "
      ]
     },
     "execution_count": 119,
     "metadata": {},
     "output_type": "execute_result"
    }
   ],
   "source": [
    "#remove city from the customer address since there is no city in the Company Address we want to match\n",
    "customer['Address'] = customer['Address'].str.rsplit(' ', 1).str[0]\n",
    "customer.head(3)"
   ]
  },
  {
   "cell_type": "markdown",
   "metadata": {},
   "source": [
    "# Match and Merge"
   ]
  },
  {
   "cell_type": "code",
   "execution_count": 121,
   "metadata": {},
   "outputs": [
    {
     "data": {
      "text/plain": [
       "True     253\n",
       "False    116\n",
       "Name: Phone, dtype: int64"
      ]
     },
     "execution_count": 121,
     "metadata": {},
     "output_type": "execute_result"
    }
   ],
   "source": [
    "#Count of matching phone 1\n",
    "customer['Phone'].isin(company_sub['Phone 1']).value_counts()"
   ]
  },
  {
   "cell_type": "code",
   "execution_count": 190,
   "metadata": {},
   "outputs": [
    {
     "data": {
      "text/html": [
       "<div>\n",
       "<style scoped>\n",
       "    .dataframe tbody tr th:only-of-type {\n",
       "        vertical-align: middle;\n",
       "    }\n",
       "\n",
       "    .dataframe tbody tr th {\n",
       "        vertical-align: top;\n",
       "    }\n",
       "\n",
       "    .dataframe thead th {\n",
       "        text-align: right;\n",
       "    }\n",
       "</style>\n",
       "<table border=\"1\" class=\"dataframe\">\n",
       "  <thead>\n",
       "    <tr style=\"text-align: right;\">\n",
       "      <th></th>\n",
       "      <th>Company Name</th>\n",
       "      <th>Total Project Value</th>\n",
       "      <th>Phone 1</th>\n",
       "      <th>Name</th>\n",
       "      <th>Phone</th>\n",
       "    </tr>\n",
       "  </thead>\n",
       "  <tbody>\n",
       "    <tr>\n",
       "      <th>0</th>\n",
       "      <td>3 round stones</td>\n",
       "      <td>19446194</td>\n",
       "      <td>7057655706</td>\n",
       "      <td>3 round stones</td>\n",
       "      <td>7057655706</td>\n",
       "    </tr>\n",
       "    <tr>\n",
       "      <th>1</th>\n",
       "      <td>abt associates</td>\n",
       "      <td>8774465</td>\n",
       "      <td>6155725760</td>\n",
       "      <td>abt associates</td>\n",
       "      <td>6155725760</td>\n",
       "    </tr>\n",
       "    <tr>\n",
       "      <th>2</th>\n",
       "      <td>accela</td>\n",
       "      <td>2578657</td>\n",
       "      <td>7052612106</td>\n",
       "      <td>accela</td>\n",
       "      <td>7052612106</td>\n",
       "    </tr>\n",
       "  </tbody>\n",
       "</table>\n",
       "</div>"
      ],
      "text/plain": [
       "     Company Name Total Project Value     Phone 1            Name       Phone\n",
       "0  3 round stones            19446194  7057655706  3 round stones  7057655706\n",
       "1  abt associates             8774465  6155725760  abt associates  6155725760\n",
       "2          accela             2578657  7052612106          accela  7052612106"
      ]
     },
     "execution_count": 190,
     "metadata": {},
     "output_type": "execute_result"
    }
   ],
   "source": [
    "#Merge by Phone(1)\n",
    "byphone_1 = pd.merge(company_sub[['Company Name', 'Total Project Value', 'Phone 1']],\n",
    "                 customer[['Name','Phone']],\n",
    "                 left_on='Phone 1', right_on='Phone')\n",
    "#Glance\n",
    "byphone_1.head(3)"
   ]
  },
  {
   "cell_type": "code",
   "execution_count": 192,
   "metadata": {},
   "outputs": [
    {
     "data": {
      "text/html": [
       "<div>\n",
       "<style scoped>\n",
       "    .dataframe tbody tr th:only-of-type {\n",
       "        vertical-align: middle;\n",
       "    }\n",
       "\n",
       "    .dataframe tbody tr th {\n",
       "        vertical-align: top;\n",
       "    }\n",
       "\n",
       "    .dataframe thead th {\n",
       "        text-align: right;\n",
       "    }\n",
       "</style>\n",
       "<table border=\"1\" class=\"dataframe\">\n",
       "  <thead>\n",
       "    <tr style=\"text-align: right;\">\n",
       "      <th></th>\n",
       "      <th>Company Name</th>\n",
       "      <th>Total Project Value</th>\n",
       "      <th>ToromontName</th>\n",
       "      <th>MatchingMethod</th>\n",
       "    </tr>\n",
       "  </thead>\n",
       "  <tbody>\n",
       "    <tr>\n",
       "      <th>0</th>\n",
       "      <td>3 round stones</td>\n",
       "      <td>19446194</td>\n",
       "      <td>3 round stones</td>\n",
       "      <td>By phone</td>\n",
       "    </tr>\n",
       "    <tr>\n",
       "      <th>1</th>\n",
       "      <td>abt associates</td>\n",
       "      <td>8774465</td>\n",
       "      <td>abt associates</td>\n",
       "      <td>By phone</td>\n",
       "    </tr>\n",
       "    <tr>\n",
       "      <th>2</th>\n",
       "      <td>accela</td>\n",
       "      <td>2578657</td>\n",
       "      <td>accela</td>\n",
       "      <td>By phone</td>\n",
       "    </tr>\n",
       "  </tbody>\n",
       "</table>\n",
       "</div>"
      ],
      "text/plain": [
       "     Company Name Total Project Value    ToromontName MatchingMethod\n",
       "0  3 round stones            19446194  3 round stones       By phone\n",
       "1  abt associates             8774465  abt associates       By phone\n",
       "2          accela             2578657          accela       By phone"
      ]
     },
     "execution_count": 192,
     "metadata": {},
     "output_type": "execute_result"
    }
   ],
   "source": [
    "#Rename the customer 'Name' column as ToromontName\n",
    "byphone_1 = byphone_1.rename(columns = {'Name':'ToromontName'})\n",
    "\n",
    "#Create a new column 'MatchingMethod'\n",
    "byphone_1['MatchingMethod'] = 'By phone'\n",
    "\n",
    "#Drop Phone and Phone 1 columns\n",
    "byphone_1 = byphone_1.drop(['Phone 1','Phone'], axis = 1)\n",
    "\n",
    "#Glance\n",
    "byphone_1.head(3)"
   ]
  },
  {
   "cell_type": "code",
   "execution_count": 122,
   "metadata": {},
   "outputs": [
    {
     "data": {
      "text/plain": [
       "False    362\n",
       "True       7\n",
       "Name: Phone, dtype: int64"
      ]
     },
     "execution_count": 122,
     "metadata": {},
     "output_type": "execute_result"
    }
   ],
   "source": [
    "#Count of matching phone numbers(2)\n",
    "customer['Phone'].isin(company_sub['Phone 2']).value_counts()"
   ]
  },
  {
   "cell_type": "code",
   "execution_count": 193,
   "metadata": {},
   "outputs": [
    {
     "data": {
      "text/html": [
       "<div>\n",
       "<style scoped>\n",
       "    .dataframe tbody tr th:only-of-type {\n",
       "        vertical-align: middle;\n",
       "    }\n",
       "\n",
       "    .dataframe tbody tr th {\n",
       "        vertical-align: top;\n",
       "    }\n",
       "\n",
       "    .dataframe thead th {\n",
       "        text-align: right;\n",
       "    }\n",
       "</style>\n",
       "<table border=\"1\" class=\"dataframe\">\n",
       "  <thead>\n",
       "    <tr style=\"text-align: right;\">\n",
       "      <th></th>\n",
       "      <th>Company Name</th>\n",
       "      <th>Total Project Value</th>\n",
       "      <th>Phone 2</th>\n",
       "      <th>Name</th>\n",
       "      <th>Phone</th>\n",
       "    </tr>\n",
       "  </thead>\n",
       "  <tbody>\n",
       "    <tr>\n",
       "      <th>0</th>\n",
       "      <td>3 round stones</td>\n",
       "      <td>19446194</td>\n",
       "      <td>9057171909</td>\n",
       "      <td>3 round stones</td>\n",
       "      <td>9057171909</td>\n",
       "    </tr>\n",
       "    <tr>\n",
       "      <th>1</th>\n",
       "      <td>48 factoring</td>\n",
       "      <td>2881817</td>\n",
       "      <td>2187252772</td>\n",
       "      <td>48 factoring</td>\n",
       "      <td>2187252772</td>\n",
       "    </tr>\n",
       "    <tr>\n",
       "      <th>2</th>\n",
       "      <td>accenture</td>\n",
       "      <td>1927921</td>\n",
       "      <td>9051897277</td>\n",
       "      <td>accenture consulting</td>\n",
       "      <td>9051897277</td>\n",
       "    </tr>\n",
       "  </tbody>\n",
       "</table>\n",
       "</div>"
      ],
      "text/plain": [
       "     Company Name Total Project Value     Phone 2                  Name  \\\n",
       "0  3 round stones            19446194  9057171909        3 round stones   \n",
       "1    48 factoring             2881817  2187252772          48 factoring   \n",
       "2       accenture             1927921  9051897277  accenture consulting   \n",
       "\n",
       "        Phone  \n",
       "0  9057171909  \n",
       "1  2187252772  \n",
       "2  9051897277  "
      ]
     },
     "execution_count": 193,
     "metadata": {},
     "output_type": "execute_result"
    }
   ],
   "source": [
    "#Merge by Phone(2)\n",
    "byphone_2 = pd.merge(company_sub[['Company Name', 'Total Project Value', 'Phone 2']],\n",
    "                 customer[['Name','Phone']],\n",
    "                 left_on='Phone 2', right_on='Phone')\n",
    "#Glance\n",
    "byphone_2.head(3)"
   ]
  },
  {
   "cell_type": "code",
   "execution_count": 194,
   "metadata": {},
   "outputs": [
    {
     "data": {
      "text/html": [
       "<div>\n",
       "<style scoped>\n",
       "    .dataframe tbody tr th:only-of-type {\n",
       "        vertical-align: middle;\n",
       "    }\n",
       "\n",
       "    .dataframe tbody tr th {\n",
       "        vertical-align: top;\n",
       "    }\n",
       "\n",
       "    .dataframe thead th {\n",
       "        text-align: right;\n",
       "    }\n",
       "</style>\n",
       "<table border=\"1\" class=\"dataframe\">\n",
       "  <thead>\n",
       "    <tr style=\"text-align: right;\">\n",
       "      <th></th>\n",
       "      <th>Company Name</th>\n",
       "      <th>Total Project Value</th>\n",
       "      <th>ToromontName</th>\n",
       "      <th>MatchingMethod</th>\n",
       "    </tr>\n",
       "  </thead>\n",
       "  <tbody>\n",
       "    <tr>\n",
       "      <th>0</th>\n",
       "      <td>3 round stones</td>\n",
       "      <td>19446194</td>\n",
       "      <td>3 round stones</td>\n",
       "      <td>By phone</td>\n",
       "    </tr>\n",
       "    <tr>\n",
       "      <th>1</th>\n",
       "      <td>48 factoring</td>\n",
       "      <td>2881817</td>\n",
       "      <td>48 factoring</td>\n",
       "      <td>By phone</td>\n",
       "    </tr>\n",
       "    <tr>\n",
       "      <th>2</th>\n",
       "      <td>accenture</td>\n",
       "      <td>1927921</td>\n",
       "      <td>accenture consulting</td>\n",
       "      <td>By phone</td>\n",
       "    </tr>\n",
       "  </tbody>\n",
       "</table>\n",
       "</div>"
      ],
      "text/plain": [
       "     Company Name Total Project Value          ToromontName MatchingMethod\n",
       "0  3 round stones            19446194        3 round stones       By phone\n",
       "1    48 factoring             2881817          48 factoring       By phone\n",
       "2       accenture             1927921  accenture consulting       By phone"
      ]
     },
     "execution_count": 194,
     "metadata": {},
     "output_type": "execute_result"
    }
   ],
   "source": [
    "#Rename the customer 'Name' column as ToromontName\n",
    "byphone_2 = byphone_2.rename(columns = {'Name':'ToromontName'})\n",
    "\n",
    "#Create a new column 'MatchingMethod'\n",
    "byphone_2['MatchingMethod'] = 'By phone'\n",
    "\n",
    "#Drop Phone and Phone 2 columns\n",
    "byphone_2 = byphone_2.drop(['Phone 2','Phone'], axis = 1)\n",
    "\n",
    "#Glance\n",
    "byphone_2.head(3)"
   ]
  },
  {
   "cell_type": "code",
   "execution_count": 123,
   "metadata": {},
   "outputs": [
    {
     "data": {
      "text/plain": [
       "False    217\n",
       "True     152\n",
       "Name: Name, dtype: int64"
      ]
     },
     "execution_count": 123,
     "metadata": {},
     "output_type": "execute_result"
    }
   ],
   "source": [
    "#Count of matching names\n",
    "customer['Name'].isin(company_sub['Company Name']).value_counts()"
   ]
  },
  {
   "cell_type": "code",
   "execution_count": 183,
   "metadata": {},
   "outputs": [
    {
     "data": {
      "text/html": [
       "<div>\n",
       "<style scoped>\n",
       "    .dataframe tbody tr th:only-of-type {\n",
       "        vertical-align: middle;\n",
       "    }\n",
       "\n",
       "    .dataframe tbody tr th {\n",
       "        vertical-align: top;\n",
       "    }\n",
       "\n",
       "    .dataframe thead th {\n",
       "        text-align: right;\n",
       "    }\n",
       "</style>\n",
       "<table border=\"1\" class=\"dataframe\">\n",
       "  <thead>\n",
       "    <tr style=\"text-align: right;\">\n",
       "      <th></th>\n",
       "      <th>Company Name</th>\n",
       "      <th>Total Project Value</th>\n",
       "      <th>Name</th>\n",
       "    </tr>\n",
       "  </thead>\n",
       "  <tbody>\n",
       "    <tr>\n",
       "      <th>0</th>\n",
       "      <td>3 round stones</td>\n",
       "      <td>19446194</td>\n",
       "      <td>3 round stones</td>\n",
       "    </tr>\n",
       "    <tr>\n",
       "      <th>1</th>\n",
       "      <td>3 round stones</td>\n",
       "      <td>19446194</td>\n",
       "      <td>3 round stones</td>\n",
       "    </tr>\n",
       "    <tr>\n",
       "      <th>2</th>\n",
       "      <td>48 factoring</td>\n",
       "      <td>2881817</td>\n",
       "      <td>48 factoring</td>\n",
       "    </tr>\n",
       "  </tbody>\n",
       "</table>\n",
       "</div>"
      ],
      "text/plain": [
       "     Company Name Total Project Value            Name\n",
       "0  3 round stones            19446194  3 round stones\n",
       "1  3 round stones            19446194  3 round stones\n",
       "2    48 factoring             2881817    48 factoring"
      ]
     },
     "execution_count": 183,
     "metadata": {},
     "output_type": "execute_result"
    }
   ],
   "source": [
    "#Merge by name\n",
    "byname=pd.merge(company_sub[['Company Name', 'Total Project Value']],\n",
    "                 customer['Name'],\n",
    "                 left_on='Company Name', right_on='Name',)\n",
    "#Glance\n",
    "byname.head(3)"
   ]
  },
  {
   "cell_type": "code",
   "execution_count": 184,
   "metadata": {},
   "outputs": [
    {
     "data": {
      "text/html": [
       "<div>\n",
       "<style scoped>\n",
       "    .dataframe tbody tr th:only-of-type {\n",
       "        vertical-align: middle;\n",
       "    }\n",
       "\n",
       "    .dataframe tbody tr th {\n",
       "        vertical-align: top;\n",
       "    }\n",
       "\n",
       "    .dataframe thead th {\n",
       "        text-align: right;\n",
       "    }\n",
       "</style>\n",
       "<table border=\"1\" class=\"dataframe\">\n",
       "  <thead>\n",
       "    <tr style=\"text-align: right;\">\n",
       "      <th></th>\n",
       "      <th>Company Name</th>\n",
       "      <th>Total Project Value</th>\n",
       "      <th>ToromontName</th>\n",
       "      <th>MatchingMethod</th>\n",
       "    </tr>\n",
       "  </thead>\n",
       "  <tbody>\n",
       "    <tr>\n",
       "      <th>0</th>\n",
       "      <td>3 round stones</td>\n",
       "      <td>19446194</td>\n",
       "      <td>3 round stones</td>\n",
       "      <td>By name</td>\n",
       "    </tr>\n",
       "    <tr>\n",
       "      <th>1</th>\n",
       "      <td>3 round stones</td>\n",
       "      <td>19446194</td>\n",
       "      <td>3 round stones</td>\n",
       "      <td>By name</td>\n",
       "    </tr>\n",
       "    <tr>\n",
       "      <th>2</th>\n",
       "      <td>48 factoring</td>\n",
       "      <td>2881817</td>\n",
       "      <td>48 factoring</td>\n",
       "      <td>By name</td>\n",
       "    </tr>\n",
       "  </tbody>\n",
       "</table>\n",
       "</div>"
      ],
      "text/plain": [
       "     Company Name Total Project Value    ToromontName MatchingMethod\n",
       "0  3 round stones            19446194  3 round stones        By name\n",
       "1  3 round stones            19446194  3 round stones        By name\n",
       "2    48 factoring             2881817    48 factoring        By name"
      ]
     },
     "execution_count": 184,
     "metadata": {},
     "output_type": "execute_result"
    }
   ],
   "source": [
    "#Rename the customer 'Name' column as ToromontName\n",
    "byname = byname.rename(columns = {'Name':'ToromontName'})\n",
    "\n",
    "#Create a new column 'MatchingMethod'\n",
    "byname['MatchingMethod'] = 'By name'\n",
    "\n",
    "#Glance\n",
    "byname.head(3)"
   ]
  },
  {
   "cell_type": "code",
   "execution_count": 124,
   "metadata": {},
   "outputs": [
    {
     "data": {
      "text/plain": [
       "False    358\n",
       "True      11\n",
       "Name: Address, dtype: int64"
      ]
     },
     "execution_count": 124,
     "metadata": {},
     "output_type": "execute_result"
    }
   ],
   "source": [
    "#Count of matching Addresses\n",
    "customer['Address'].isin(company_sub['Address']).value_counts()"
   ]
  },
  {
   "cell_type": "code",
   "execution_count": 180,
   "metadata": {},
   "outputs": [],
   "source": [
    "#merge by address\n",
    "byaddress = pd.merge(company_sub[['Company Name', 'Total Project Value', 'Address']],\n",
    "                 customer[['Name', 'Address']],\n",
    "                 on = ['Address', 'Address'])\n",
    "#Glance\n",
    "byaddress.head(3)"
   ]
  },
  {
   "cell_type": "code",
   "execution_count": 181,
   "metadata": {},
   "outputs": [
    {
     "data": {
      "text/html": [
       "<div>\n",
       "<style scoped>\n",
       "    .dataframe tbody tr th:only-of-type {\n",
       "        vertical-align: middle;\n",
       "    }\n",
       "\n",
       "    .dataframe tbody tr th {\n",
       "        vertical-align: top;\n",
       "    }\n",
       "\n",
       "    .dataframe thead th {\n",
       "        text-align: right;\n",
       "    }\n",
       "</style>\n",
       "<table border=\"1\" class=\"dataframe\">\n",
       "  <thead>\n",
       "    <tr style=\"text-align: right;\">\n",
       "      <th></th>\n",
       "      <th>Company Name</th>\n",
       "      <th>Total Project Value</th>\n",
       "      <th>ToromontName</th>\n",
       "      <th>MatchingMethod</th>\n",
       "    </tr>\n",
       "  </thead>\n",
       "  <tbody>\n",
       "    <tr>\n",
       "      <th>0</th>\n",
       "      <td>accuweather</td>\n",
       "      <td>18194998</td>\n",
       "      <td>amsterdam news</td>\n",
       "      <td>By address</td>\n",
       "    </tr>\n",
       "    <tr>\n",
       "      <th>1</th>\n",
       "      <td>accuweather</td>\n",
       "      <td>18194998</td>\n",
       "      <td>atsite</td>\n",
       "      <td>By address</td>\n",
       "    </tr>\n",
       "    <tr>\n",
       "      <th>2</th>\n",
       "      <td>accuweather</td>\n",
       "      <td>18194998</td>\n",
       "      <td>aunt bertha</td>\n",
       "      <td>By address</td>\n",
       "    </tr>\n",
       "  </tbody>\n",
       "</table>\n",
       "</div>"
      ],
      "text/plain": [
       "  Company Name Total Project Value    ToromontName MatchingMethod\n",
       "0  accuweather            18194998  amsterdam news     By address\n",
       "1  accuweather            18194998          atsite     By address\n",
       "2  accuweather            18194998     aunt bertha     By address"
      ]
     },
     "execution_count": 181,
     "metadata": {},
     "output_type": "execute_result"
    }
   ],
   "source": [
    "#Rename the customer 'Name' column as ToromontName\n",
    "byaddress = byaddress.rename(columns = {'Name':'ToromontName'})\n",
    "\n",
    "#Create a new column 'MatchingMethod'\n",
    "byaddress['MatchingMethod'] = 'By address'\n",
    "\n",
    "#Drop Address\n",
    "byaddress = byaddress.drop(['Address'], axis = 1)\n",
    "\n",
    "#Glance\n",
    "byaddress.head(3)"
   ]
  },
  {
   "cell_type": "markdown",
   "metadata": {},
   "source": [
    "# Combine data"
   ]
  },
  {
   "cell_type": "code",
   "execution_count": 245,
   "metadata": {},
   "outputs": [
    {
     "name": "stdout",
     "output_type": "stream",
     "text": [
      "(259, 4) (7, 4) (209, 4) (152, 4) (627, 4)\n"
     ]
    }
   ],
   "source": [
    "#combine all the dataframes into one row-wise since they all have the same columns\n",
    "combined_data = pd.concat([byname, byphone_1, byphone_2, byaddress], ignore_index = True, sort = True)\n",
    "\n",
    "#Rename the 'Company Name' as CompanyName and 'Total Project Value'as TotalProjectValue columns\n",
    "combined_data = combined_data.rename(columns = {'Company Name':'CompanyName', 'Total Project Value':'TotalProjectValue'})\n",
    "\n",
    "#change order of columns\n",
    "combined_data = combined_data[['CompanyName','ToromontName','MatchingMethod','TotalProjectValue']]\n",
    "\n",
    "#dimensions\n",
    "print(byphone_1.shape, byphone_2.shape, byaddress.shape, byname.shape, combined_data.shape)"
   ]
  },
  {
   "cell_type": "markdown",
   "metadata": {},
   "source": [
    "You can see that the combined_data table has 627 records, which is more than the number of original records in either the company or customer file. This is due to records matching by more than one method or one to many matching. We are giving preference to matching by name then by phone and by address. For example, if records match by name, we don't need the duplicate matching by phone or address and consequently if we have a match by phone, there is no need for an additional matching by address. So, let's clean the combined_data table."
   ]
  },
  {
   "cell_type": "code",
   "execution_count": 246,
   "metadata": {},
   "outputs": [
    {
     "data": {
      "text/html": [
       "<div>\n",
       "<style scoped>\n",
       "    .dataframe tbody tr th:only-of-type {\n",
       "        vertical-align: middle;\n",
       "    }\n",
       "\n",
       "    .dataframe tbody tr th {\n",
       "        vertical-align: top;\n",
       "    }\n",
       "\n",
       "    .dataframe thead th {\n",
       "        text-align: right;\n",
       "    }\n",
       "</style>\n",
       "<table border=\"1\" class=\"dataframe\">\n",
       "  <thead>\n",
       "    <tr style=\"text-align: right;\">\n",
       "      <th></th>\n",
       "      <th>CompanyName</th>\n",
       "      <th>ToromontName</th>\n",
       "      <th>MatchingMethod</th>\n",
       "      <th>TotalProjectValue</th>\n",
       "    </tr>\n",
       "  </thead>\n",
       "  <tbody>\n",
       "    <tr>\n",
       "      <th>152</th>\n",
       "      <td>3 round stones</td>\n",
       "      <td>3 round stones</td>\n",
       "      <td>By phone</td>\n",
       "      <td>19446194</td>\n",
       "    </tr>\n",
       "    <tr>\n",
       "      <th>153</th>\n",
       "      <td>abt associates</td>\n",
       "      <td>abt associates</td>\n",
       "      <td>By phone</td>\n",
       "      <td>8774465</td>\n",
       "    </tr>\n",
       "    <tr>\n",
       "      <th>154</th>\n",
       "      <td>accela</td>\n",
       "      <td>accela</td>\n",
       "      <td>By phone</td>\n",
       "      <td>2578657</td>\n",
       "    </tr>\n",
       "    <tr>\n",
       "      <th>156</th>\n",
       "      <td>acxiom</td>\n",
       "      <td>acxiom</td>\n",
       "      <td>By phone</td>\n",
       "      <td>11999996</td>\n",
       "    </tr>\n",
       "    <tr>\n",
       "      <th>157</th>\n",
       "      <td>adaptive</td>\n",
       "      <td>adaptive</td>\n",
       "      <td>By phone</td>\n",
       "      <td>158992</td>\n",
       "    </tr>\n",
       "    <tr>\n",
       "      <th>...</th>\n",
       "      <td>...</td>\n",
       "      <td>...</td>\n",
       "      <td>...</td>\n",
       "      <td>...</td>\n",
       "    </tr>\n",
       "    <tr>\n",
       "      <th>410</th>\n",
       "      <td>zurich insurance risk room</td>\n",
       "      <td>zurich insurance risk room</td>\n",
       "      <td>By phone</td>\n",
       "      <td>1868111</td>\n",
       "    </tr>\n",
       "    <tr>\n",
       "      <th>411</th>\n",
       "      <td>3 round stones</td>\n",
       "      <td>3 round stones</td>\n",
       "      <td>By phone</td>\n",
       "      <td>19446194</td>\n",
       "    </tr>\n",
       "    <tr>\n",
       "      <th>412</th>\n",
       "      <td>48 factoring</td>\n",
       "      <td>48 factoring</td>\n",
       "      <td>By phone</td>\n",
       "      <td>2881817</td>\n",
       "    </tr>\n",
       "    <tr>\n",
       "      <th>415</th>\n",
       "      <td>acxiom</td>\n",
       "      <td>acxiom</td>\n",
       "      <td>By phone</td>\n",
       "      <td>11999996</td>\n",
       "    </tr>\n",
       "    <tr>\n",
       "      <th>416</th>\n",
       "      <td>adaptive</td>\n",
       "      <td>adaptive</td>\n",
       "      <td>By phone</td>\n",
       "      <td>158992</td>\n",
       "    </tr>\n",
       "  </tbody>\n",
       "</table>\n",
       "<p>150 rows × 4 columns</p>\n",
       "</div>"
      ],
      "text/plain": [
       "                    CompanyName                ToromontName MatchingMethod  \\\n",
       "152              3 round stones              3 round stones       By phone   \n",
       "153              abt associates              abt associates       By phone   \n",
       "154                      accela                      accela       By phone   \n",
       "156                      acxiom                      acxiom       By phone   \n",
       "157                    adaptive                    adaptive       By phone   \n",
       "..                          ...                         ...            ...   \n",
       "410  zurich insurance risk room  zurich insurance risk room       By phone   \n",
       "411              3 round stones              3 round stones       By phone   \n",
       "412                48 factoring                48 factoring       By phone   \n",
       "415                      acxiom                      acxiom       By phone   \n",
       "416                    adaptive                    adaptive       By phone   \n",
       "\n",
       "    TotalProjectValue  \n",
       "152          19446194  \n",
       "153           8774465  \n",
       "154           2578657  \n",
       "156          11999996  \n",
       "157            158992  \n",
       "..                ...  \n",
       "410           1868111  \n",
       "411          19446194  \n",
       "412           2881817  \n",
       "415          11999996  \n",
       "416            158992  \n",
       "\n",
       "[150 rows x 4 columns]"
      ]
     },
     "execution_count": 246,
     "metadata": {},
     "output_type": "execute_result"
    }
   ],
   "source": [
    "#checking for duplicate records matched by both name and phone\n",
    "combined_data[(combined_data['CompanyName']==combined_data['ToromontName']) & (combined_data['MatchingMethod']=='By phone')]"
   ]
  },
  {
   "cell_type": "markdown",
   "metadata": {},
   "source": [
    "There are 150 duplicate records. These are records that match both by name and phone. So, we will drop the duplicates."
   ]
  },
  {
   "cell_type": "code",
   "execution_count": 247,
   "metadata": {},
   "outputs": [
    {
     "data": {
      "text/plain": [
       "(477, 4)"
      ]
     },
     "execution_count": 247,
     "metadata": {},
     "output_type": "execute_result"
    }
   ],
   "source": [
    "#Drop duplicates matched by name and phone\n",
    "combined_data. drop(combined_data[(combined_data['CompanyName']==combined_data['ToromontName']) & (combined_data['MatchingMethod']=='By phone')]. index, axis=0, inplace=True)\n",
    "combined_data.shape"
   ]
  },
  {
   "cell_type": "code",
   "execution_count": 229,
   "metadata": {},
   "outputs": [
    {
     "data": {
      "text/html": [
       "<div>\n",
       "<style scoped>\n",
       "    .dataframe tbody tr th:only-of-type {\n",
       "        vertical-align: middle;\n",
       "    }\n",
       "\n",
       "    .dataframe tbody tr th {\n",
       "        vertical-align: top;\n",
       "    }\n",
       "\n",
       "    .dataframe thead th {\n",
       "        text-align: right;\n",
       "    }\n",
       "</style>\n",
       "<table border=\"1\" class=\"dataframe\">\n",
       "  <thead>\n",
       "    <tr style=\"text-align: right;\">\n",
       "      <th></th>\n",
       "      <th>CompanyName</th>\n",
       "      <th>ToromontName</th>\n",
       "      <th>MatchingMethod</th>\n",
       "      <th>TotalProjectValue</th>\n",
       "    </tr>\n",
       "  </thead>\n",
       "  <tbody>\n",
       "    <tr>\n",
       "      <th>289</th>\n",
       "      <td>atsite</td>\n",
       "      <td>atsite</td>\n",
       "      <td>By address</td>\n",
       "      <td>6261647</td>\n",
       "    </tr>\n",
       "    <tr>\n",
       "      <th>301</th>\n",
       "      <td>aunt bertha</td>\n",
       "      <td>aunt bertha</td>\n",
       "      <td>By address</td>\n",
       "      <td>6726496</td>\n",
       "    </tr>\n",
       "    <tr>\n",
       "      <th>427</th>\n",
       "      <td>opportunityspace</td>\n",
       "      <td>opportunityspace</td>\n",
       "      <td>By address</td>\n",
       "      <td>641692</td>\n",
       "    </tr>\n",
       "    <tr>\n",
       "      <th>439</th>\n",
       "      <td>ranku</td>\n",
       "      <td>ranku</td>\n",
       "      <td>By address</td>\n",
       "      <td>14452491</td>\n",
       "    </tr>\n",
       "    <tr>\n",
       "      <th>451</th>\n",
       "      <td>redfin</td>\n",
       "      <td>redfin</td>\n",
       "      <td>By address</td>\n",
       "      <td>9985172</td>\n",
       "    </tr>\n",
       "  </tbody>\n",
       "</table>\n",
       "</div>"
      ],
      "text/plain": [
       "          CompanyName      ToromontName MatchingMethod TotalProjectValue\n",
       "289            atsite            atsite     By address           6261647\n",
       "301       aunt bertha       aunt bertha     By address           6726496\n",
       "427  opportunityspace  opportunityspace     By address            641692\n",
       "439             ranku             ranku     By address          14452491\n",
       "451            redfin            redfin     By address           9985172"
      ]
     },
     "execution_count": 229,
     "metadata": {},
     "output_type": "execute_result"
    }
   ],
   "source": [
    "#Now let's check for duplicate records matched by both name and address\n",
    "combined_data[(combined_data['CompanyName']==combined_data['ToromontName']) & (combined_data['MatchingMethod']=='By address')]"
   ]
  },
  {
   "cell_type": "code",
   "execution_count": 230,
   "metadata": {},
   "outputs": [
    {
     "data": {
      "text/plain": [
       "(472, 4)"
      ]
     },
     "execution_count": 230,
     "metadata": {},
     "output_type": "execute_result"
    }
   ],
   "source": [
    "#Drop duplicates matched by name and address\n",
    "combined_data. drop(combined_data[(combined_data['CompanyName']==combined_data['ToromontName']) & (combined_data['MatchingMethod']=='By address')]. index, axis=0, inplace=True)\n",
    "combined_data.shape"
   ]
  },
  {
   "cell_type": "code",
   "execution_count": 231,
   "metadata": {},
   "outputs": [
    {
     "data": {
      "text/html": [
       "<div>\n",
       "<style scoped>\n",
       "    .dataframe tbody tr th:only-of-type {\n",
       "        vertical-align: middle;\n",
       "    }\n",
       "\n",
       "    .dataframe tbody tr th {\n",
       "        vertical-align: top;\n",
       "    }\n",
       "\n",
       "    .dataframe thead th {\n",
       "        text-align: right;\n",
       "    }\n",
       "</style>\n",
       "<table border=\"1\" class=\"dataframe\">\n",
       "  <thead>\n",
       "    <tr style=\"text-align: right;\">\n",
       "      <th></th>\n",
       "      <th>CompanyName</th>\n",
       "      <th>ToromontName</th>\n",
       "      <th>MatchingMethod</th>\n",
       "      <th>TotalProjectValue</th>\n",
       "    </tr>\n",
       "  </thead>\n",
       "  <tbody>\n",
       "  </tbody>\n",
       "</table>\n",
       "</div>"
      ],
      "text/plain": [
       "Empty DataFrame\n",
       "Columns: [CompanyName, ToromontName, MatchingMethod, TotalProjectValue]\n",
       "Index: []"
      ]
     },
     "execution_count": 231,
     "metadata": {},
     "output_type": "execute_result"
    }
   ],
   "source": [
    "#Check for duplicates matched by phone and address\n",
    "combined_data[(combined_data['MatchingMethod']=='By phone') & (combined_data['MatchingMethod']=='By Address')]"
   ]
  },
  {
   "cell_type": "code",
   "execution_count": 251,
   "metadata": {},
   "outputs": [
    {
     "data": {
      "text/html": [
       "<div>\n",
       "<style scoped>\n",
       "    .dataframe tbody tr th:only-of-type {\n",
       "        vertical-align: middle;\n",
       "    }\n",
       "\n",
       "    .dataframe tbody tr th {\n",
       "        vertical-align: top;\n",
       "    }\n",
       "\n",
       "    .dataframe thead th {\n",
       "        text-align: right;\n",
       "    }\n",
       "</style>\n",
       "<table border=\"1\" class=\"dataframe\">\n",
       "  <thead>\n",
       "    <tr style=\"text-align: right;\">\n",
       "      <th></th>\n",
       "      <th>CompanyName</th>\n",
       "      <th>ToromontName</th>\n",
       "      <th>MatchingMethod</th>\n",
       "      <th>TotalProjectValue</th>\n",
       "    </tr>\n",
       "  </thead>\n",
       "  <tbody>\n",
       "    <tr>\n",
       "      <th>1</th>\n",
       "      <td>3 round stones</td>\n",
       "      <td>3 round stones</td>\n",
       "      <td>By name</td>\n",
       "      <td>19446194</td>\n",
       "    </tr>\n",
       "    <tr>\n",
       "      <th>6</th>\n",
       "      <td>acxiom</td>\n",
       "      <td>acxiom</td>\n",
       "      <td>By name</td>\n",
       "      <td>11999996</td>\n",
       "    </tr>\n",
       "    <tr>\n",
       "      <th>8</th>\n",
       "      <td>adaptive</td>\n",
       "      <td>adaptive</td>\n",
       "      <td>By name</td>\n",
       "      <td>158992</td>\n",
       "    </tr>\n",
       "    <tr>\n",
       "      <th>413</th>\n",
       "      <td>accenture</td>\n",
       "      <td>accenture consulting</td>\n",
       "      <td>By phone</td>\n",
       "      <td>1927921</td>\n",
       "    </tr>\n",
       "  </tbody>\n",
       "</table>\n",
       "</div>"
      ],
      "text/plain": [
       "        CompanyName          ToromontName MatchingMethod TotalProjectValue\n",
       "1    3 round stones        3 round stones        By name          19446194\n",
       "6            acxiom                acxiom        By name          11999996\n",
       "8          adaptive              adaptive        By name            158992\n",
       "413       accenture  accenture consulting       By phone           1927921"
      ]
     },
     "execution_count": 251,
     "metadata": {},
     "output_type": "execute_result"
    }
   ],
   "source": [
    "# Return duplicate rows except first occurrence based on all columns\n",
    "combined_data[combined_data.duplicated()]"
   ]
  },
  {
   "cell_type": "markdown",
   "metadata": {},
   "source": [
    "We found some duplicated rows and we are going to drop them"
   ]
  },
  {
   "cell_type": "code",
   "execution_count": 252,
   "metadata": {},
   "outputs": [],
   "source": [
    "#Drop duplicated rows\n",
    "combined_data.drop(combined_data[combined_data.duplicated()].index, axis=0, inplace = True)"
   ]
  },
  {
   "cell_type": "code",
   "execution_count": 253,
   "metadata": {},
   "outputs": [
    {
     "data": {
      "text/plain": [
       "By address    209\n",
       "By name       149\n",
       "By phone      115\n",
       "Name: MatchingMethod, dtype: int64"
      ]
     },
     "execution_count": 253,
     "metadata": {},
     "output_type": "execute_result"
    }
   ],
   "source": [
    "# Let's see the distribution by matching method\n",
    "combined_data['MatchingMethod'].value_counts()"
   ]
  },
  {
   "cell_type": "code",
   "execution_count": 254,
   "metadata": {},
   "outputs": [
    {
     "name": "stdout",
     "output_type": "stream",
     "text": [
      "This is the number of matches by matching method\n"
     ]
    },
    {
     "data": {
      "text/plain": [
       "<matplotlib.axes._subplots.AxesSubplot at 0x16a81199d30>"
      ]
     },
     "execution_count": 254,
     "metadata": {},
     "output_type": "execute_result"
    },
    {
     "data": {
      "image/png": "[encoded data removed]",
      "text/plain": [
       "<Figure size 576x396 with 1 Axes>"
      ]
     },
     "metadata": {},
     "output_type": "display_data"
    }
   ],
   "source": [
    "print('This is the number of matches by matching method')\n",
    "combined_data['MatchingMethod'].value_counts().plot(kind = 'bar', color = list('rgbkymc'))"
   ]
  },
  {
   "cell_type": "code",
   "execution_count": 260,
   "metadata": {},
   "outputs": [
    {
     "data": {
      "text/html": [
       "<div>\n",
       "<style scoped>\n",
       "    .dataframe tbody tr th:only-of-type {\n",
       "        vertical-align: middle;\n",
       "    }\n",
       "\n",
       "    .dataframe tbody tr th {\n",
       "        vertical-align: top;\n",
       "    }\n",
       "\n",
       "    .dataframe thead th {\n",
       "        text-align: right;\n",
       "    }\n",
       "</style>\n",
       "<table border=\"1\" class=\"dataframe\">\n",
       "  <thead>\n",
       "    <tr style=\"text-align: right;\">\n",
       "      <th></th>\n",
       "      <th>CompanyName</th>\n",
       "      <th>ToromontName</th>\n",
       "      <th>MatchingMethod</th>\n",
       "      <th>TotalProjectValue</th>\n",
       "    </tr>\n",
       "  </thead>\n",
       "  <tbody>\n",
       "    <tr>\n",
       "      <th>0</th>\n",
       "      <td>3 round stones</td>\n",
       "      <td>3 round stones</td>\n",
       "      <td>By name</td>\n",
       "      <td>19446194</td>\n",
       "    </tr>\n",
       "    <tr>\n",
       "      <th>2</th>\n",
       "      <td>48 factoring</td>\n",
       "      <td>48 factoring</td>\n",
       "      <td>By name</td>\n",
       "      <td>2881817</td>\n",
       "    </tr>\n",
       "    <tr>\n",
       "      <th>3</th>\n",
       "      <td>abt associates</td>\n",
       "      <td>abt associates</td>\n",
       "      <td>By name</td>\n",
       "      <td>8774465</td>\n",
       "    </tr>\n",
       "  </tbody>\n",
       "</table>\n",
       "</div>"
      ],
      "text/plain": [
       "      CompanyName    ToromontName MatchingMethod TotalProjectValue\n",
       "0  3 round stones  3 round stones        By name          19446194\n",
       "2    48 factoring    48 factoring        By name           2881817\n",
       "3  abt associates  abt associates        By name           8774465"
      ]
     },
     "execution_count": 260,
     "metadata": {},
     "output_type": "execute_result"
    }
   ],
   "source": [
    "combined_data.head(3)"
   ]
  },
  {
   "cell_type": "code",
   "execution_count": 259,
   "metadata": {},
   "outputs": [
    {
     "data": {
      "text/html": [
       "<div>\n",
       "<style scoped>\n",
       "    .dataframe tbody tr th:only-of-type {\n",
       "        vertical-align: middle;\n",
       "    }\n",
       "\n",
       "    .dataframe tbody tr th {\n",
       "        vertical-align: top;\n",
       "    }\n",
       "\n",
       "    .dataframe thead th {\n",
       "        text-align: right;\n",
       "    }\n",
       "</style>\n",
       "<table border=\"1\" class=\"dataframe\">\n",
       "  <thead>\n",
       "    <tr style=\"text-align: right;\">\n",
       "      <th></th>\n",
       "      <th>CompanyName</th>\n",
       "      <th>ToromontName</th>\n",
       "      <th>MatchingMethod</th>\n",
       "      <th>TotalProjectValue</th>\n",
       "    </tr>\n",
       "  </thead>\n",
       "  <tbody>\n",
       "    <tr>\n",
       "      <th>125</th>\n",
       "      <td>trialtrove</td>\n",
       "      <td>trialtrove</td>\n",
       "      <td>By name</td>\n",
       "      <td>299998</td>\n",
       "    </tr>\n",
       "    <tr>\n",
       "      <th>529</th>\n",
       "      <td>jj keller</td>\n",
       "      <td>atsite</td>\n",
       "      <td>By address</td>\n",
       "      <td>4299214</td>\n",
       "    </tr>\n",
       "    <tr>\n",
       "      <th>83</th>\n",
       "      <td>relationship science</td>\n",
       "      <td>relationship science</td>\n",
       "      <td>By name</td>\n",
       "      <td>71895464</td>\n",
       "    </tr>\n",
       "    <tr>\n",
       "      <th>527</th>\n",
       "      <td>indoors</td>\n",
       "      <td>weatherco</td>\n",
       "      <td>By address</td>\n",
       "      <td>4476246</td>\n",
       "    </tr>\n",
       "    <tr>\n",
       "      <th>298</th>\n",
       "      <td>kimono labs</td>\n",
       "      <td>joseph notarianni  co</td>\n",
       "      <td>By phone</td>\n",
       "      <td>147922</td>\n",
       "    </tr>\n",
       "    <tr>\n",
       "      <th>...</th>\n",
       "      <td>...</td>\n",
       "      <td>...</td>\n",
       "      <td>...</td>\n",
       "      <td>...</td>\n",
       "    </tr>\n",
       "    <tr>\n",
       "      <th>13</th>\n",
       "      <td>amazon web services</td>\n",
       "      <td>amazon web services</td>\n",
       "      <td>By name</td>\n",
       "      <td>8854415</td>\n",
       "    </tr>\n",
       "    <tr>\n",
       "      <th>262</th>\n",
       "      <td>govini</td>\n",
       "      <td>helco sales co</td>\n",
       "      <td>By phone</td>\n",
       "      <td>47179442</td>\n",
       "    </tr>\n",
       "    <tr>\n",
       "      <th>142</th>\n",
       "      <td>weather channel</td>\n",
       "      <td>weather channel</td>\n",
       "      <td>By name</td>\n",
       "      <td>244999998</td>\n",
       "    </tr>\n",
       "    <tr>\n",
       "      <th>459</th>\n",
       "      <td>aunt bertha</td>\n",
       "      <td>ranku</td>\n",
       "      <td>By address</td>\n",
       "      <td>6726496</td>\n",
       "    </tr>\n",
       "    <tr>\n",
       "      <th>511</th>\n",
       "      <td>guidestar</td>\n",
       "      <td>general color co</td>\n",
       "      <td>By address</td>\n",
       "      <td>1541797</td>\n",
       "    </tr>\n",
       "  </tbody>\n",
       "</table>\n",
       "<p>473 rows × 4 columns</p>\n",
       "</div>"
      ],
      "text/plain": [
       "              CompanyName           ToromontName MatchingMethod  \\\n",
       "125            trialtrove             trialtrove        By name   \n",
       "529             jj keller                 atsite     By address   \n",
       "83   relationship science   relationship science        By name   \n",
       "527               indoors              weatherco     By address   \n",
       "298           kimono labs  joseph notarianni  co       By phone   \n",
       "..                    ...                    ...            ...   \n",
       "13    amazon web services    amazon web services        By name   \n",
       "262                govini         helco sales co       By phone   \n",
       "142       weather channel        weather channel        By name   \n",
       "459           aunt bertha                  ranku     By address   \n",
       "511             guidestar       general color co     By address   \n",
       "\n",
       "    TotalProjectValue  \n",
       "125            299998  \n",
       "529           4299214  \n",
       "83           71895464  \n",
       "527           4476246  \n",
       "298            147922  \n",
       "..                ...  \n",
       "13            8854415  \n",
       "262          47179442  \n",
       "142         244999998  \n",
       "459           6726496  \n",
       "511           1541797  \n",
       "\n",
       "[473 rows x 4 columns]"
      ]
     },
     "execution_count": 259,
     "metadata": {},
     "output_type": "execute_result"
    }
   ],
   "source": [
    "#sample the combined dataframe\n",
    "combined_data.sample(frac=1)"
   ]
  },
  {
   "cell_type": "code",
   "execution_count": 261,
   "metadata": {},
   "outputs": [],
   "source": [
    "#Shuffle data to mix distribution\n",
    "combined_data_shuffle = combined_data.sample(frac=1).reset_index(drop=True)"
   ]
  },
  {
   "cell_type": "markdown",
   "metadata": {},
   "source": [
    "# Export Data"
   ]
  },
  {
   "cell_type": "code",
   "execution_count": 262,
   "metadata": {},
   "outputs": [],
   "source": [
    "combined_data_shuffle.to_csv('combined_data.csv', index = False)"
   ]
  }
 ],
 "metadata": {
  "kernelspec": {
   "display_name": "Python 3",
   "language": "python",
   "name": "python3"
  },
  "language_info": {
   "codemirror_mode": {
    "name": "ipython",
    "version": 3
   },
   "file_extension": ".py",
   "mimetype": "text/x-python",
   "name": "python",
   "nbconvert_exporter": "python",
   "pygments_lexer": "ipython3",
   "version": "3.7.3"
  }
 },
 "nbformat": 4,
 "nbformat_minor": 2
}
